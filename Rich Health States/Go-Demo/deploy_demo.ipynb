{
 "cells": [
  {
   "cell_type": "markdown",
   "metadata": {},
   "source": [
    "# Introduction\n",
    "- This notebook is meant to help with the Deployment of our Sample Demo application that will be monitored by Application Health Extension"
   ]
  },
  {
   "cell_type": "markdown",
   "metadata": {},
   "source": [
    "## Prerequisites\n",
    "- To be able to Deploy a VMSS with Application Health Extension, and the Demo Application, you need the following:"
   ]
  },
  {
   "cell_type": "markdown",
   "metadata": {},
   "source": [
    "1. Build Application and Package Application  "
   ]
  },
  {
   "cell_type": "code",
   "execution_count": null,
   "metadata": {},
   "outputs": [],
   "source": [
    "!make bundle-linux"
   ]
  },
  {
   "cell_type": "markdown",
   "metadata": {},
   "source": [
    "2. Install Azure CLI\n",
    "   - Install the Azure CLI using bash. This will allow you to interact with Azure directly from the command line."
   ]
  },
  {
   "cell_type": "code",
   "execution_count": null,
   "metadata": {},
   "outputs": [],
   "source": [
    "!curl -sL https://aka.ms/InstallAzureCLIDeb | sudo bash"
   ]
  },
  {
   "cell_type": "markdown",
   "metadata": {},
   "source": [
    "3. Login to Azure:\n",
    "   - Use the 'az login' command to log in to your Azure account. This will require you to enter your Azure credentials."
   ]
  },
  {
   "cell_type": "code",
   "execution_count": null,
   "metadata": {
    "vscode": {
     "languageId": "shellscript"
    }
   },
   "outputs": [],
   "source": [
    "!az login"
   ]
  },
  {
   "cell_type": "markdown",
   "metadata": {},
   "source": [
    "4.  Choose Subscription:\n",
    "    - If Needed Select the subscription you want to use with the 'az account set --subscription' command."
   ]
  },
  {
   "cell_type": "code",
   "execution_count": null,
   "metadata": {
    "vscode": {
     "languageId": "shellscript"
    }
   },
   "outputs": [],
   "source": [
    "# Add you Azure SubscriptionId\n",
    "subId=\"\"\n",
    "\n",
    "!az account set --subscription $subId "
   ]
  },
  {
   "cell_type": "markdown",
   "metadata": {},
   "source": [
    "## Deployment Scripts\n",
    "  - We will use the azure cli to deploy a new linux VMSS with Application Health Extension 2.0 enabled and the sample demo application for Application Health Extension to monitor."
   ]
  },
  {
   "cell_type": "markdown",
   "metadata": {},
   "source": [
    "1. Create a New Resource Group:\n",
    "    - Use the 'az group create' command to create a new resource group. You will need to specify the name and location of the resource group."
   ]
  },
  {
   "cell_type": "code",
   "execution_count": null,
   "metadata": {
    "vscode": {
     "languageId": "shellscript"
    }
   },
   "outputs": [],
   "source": [
    "# Define the resource group name and location\n",
    "resource_group_name=\"\" # Add your Resource Group Name\n",
    "location=\"eastus2\" # Change the location if needed\n",
    "\n",
    "# Create a new resource group\n",
    "!az group create --name $resource_group_name --location $location"
   ]
  },
  {
   "cell_type": "markdown",
   "metadata": {},
   "source": [
    "2. Create a Storage:"
   ]
  },
  {
   "cell_type": "code",
   "execution_count": null,
   "metadata": {
    "vscode": {
     "languageId": "shellscript"
    }
   },
   "outputs": [],
   "source": [
    "storage_account_name=\"\" # Add your Storage Account Name\n",
    "!az storage account create --name $storage_account_name --resource-group $resource_group_name --location $location "
   ]
  },
  {
   "cell_type": "markdown",
   "metadata": {},
   "source": [
    "3. Create a New Blob Container:"
   ]
  },
  {
   "cell_type": "code",
   "execution_count": null,
   "metadata": {
    "vscode": {
     "languageId": "shellscript"
    }
   },
   "outputs": [],
   "source": [
    "container_name=\"scripts\"\n",
    "!az storage container create -n $container_name --account-name $storage_account_name --fail-on-exist"
   ]
  },
  {
   "cell_type": "markdown",
   "metadata": {},
   "source": [
    "4. Upload the Demo Application to our Blob Storage:"
   ]
  },
  {
   "cell_type": "code",
   "execution_count": null,
   "metadata": {
    "vscode": {
     "languageId": "shellscript"
    }
   },
   "outputs": [],
   "source": [
    "file_name=\"demo-app-bundle.tar.gz\"\n",
    "file_path=\"./bundle/demo-app-bundle.tar.gz\" \n",
    "!az storage blob upload --container-name $container_name --file $file_path --name $file_name --account-name $storage_account_name"
   ]
  },
  {
   "cell_type": "markdown",
   "metadata": {},
   "source": [
    "5. Deploy our ARM Template:\n",
    "   - The ARM Template will create a Linux VMSS with a custom script extension that will download our a demo application named `demo-app-bundle.tar.gz` from the Blob Storage from Blob Storage, extract and run the demo application."
   ]
  },
  {
   "cell_type": "code",
   "execution_count": null,
   "metadata": {
    "vscode": {
     "languageId": "shellscript"
    }
   },
   "outputs": [],
   "source": [
    "vmss_name=\"\" #Add a name to the VMSS\n",
    "admin_username=\"\" #Add an Username for VMSS VMs\n",
    "admin_password=\"\" #Add an Password for VMSS VMs\n",
    "template_file_path=\"./deployment/Templates/ARM/Linux/azuredeploy.json\"\n",
    "!az deployment group create --resource-group $resource_group_name --template-file $template_file_path --parameters vmssName=$vmss_name adminUsername=$admin_username adminPassword=$admin_password storageAccountName=$storage_account_name"
   ]
  }
 ],
 "metadata": {
  "kernelspec": {
   "display_name": "Python 3",
   "language": "python",
   "name": "python3"
  },
  "language_info": {
   "codemirror_mode": {
    "name": "ipython",
    "version": 3
   },
   "file_extension": ".py",
   "mimetype": "text/x-python",
   "name": "python",
   "nbconvert_exporter": "python",
   "pygments_lexer": "ipython3",
   "version": "3.9.7"
  }
 },
 "nbformat": 4,
 "nbformat_minor": 2
}
